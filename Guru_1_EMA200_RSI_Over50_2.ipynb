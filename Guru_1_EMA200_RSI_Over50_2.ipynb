{
  "cells": [
    {
      "cell_type": "markdown",
      "metadata": {
        "id": "view-in-github",
        "colab_type": "text"
      },
      "source": [
        "<a href=\"https://colab.research.google.com/github/jmichaelh/repo/blob/master/Guru_1_EMA200_RSI_Over50_2.ipynb\" target=\"_parent\"><img src=\"https://colab.research.google.com/assets/colab-badge.svg\" alt=\"Open In Colab\"/></a>"
      ]
    },
    {
      "cell_type": "code",
      "execution_count": null,
      "id": "4565eb6e",
      "metadata": {
        "id": "4565eb6e"
      },
      "outputs": [],
      "source": [
        "import sys\n",
        "sys.path.append(\"../\")"
      ]
    },
    {
      "cell_type": "code",
      "execution_count": null,
      "id": "d780955e",
      "metadata": {
        "id": "d780955e"
      },
      "outputs": [],
      "source": [
        "import pandas as pd\n",
        "import plotly.graph_objects as go\n",
        "from technicals.indicators import RSI\n",
        "from technicals.patterns import apply_patterns\n",
        "from plotting import CandlePlot"
      ]
    },
    {
      "cell_type": "code",
      "execution_count": null,
      "id": "c353641e",
      "metadata": {
        "id": "c353641e"
      },
      "outputs": [],
      "source": [
        "df_raw = pd.read_pickle(\"../data/EUR_USD_H1.pkl\")"
      ]
    },
    {
      "cell_type": "code",
      "execution_count": null,
      "id": "344ef1b8",
      "metadata": {
        "id": "344ef1b8"
      },
      "outputs": [],
      "source": [
        "df_raw.shape"
      ]
    },
    {
      "cell_type": "code",
      "execution_count": null,
      "id": "058c9ff5",
      "metadata": {
        "id": "058c9ff5"
      },
      "outputs": [],
      "source": [
        "df_an = df_raw.copy()#df_raw.iloc[-6000:].copy()\n",
        "df_an.reset_index(drop=True, inplace=True)"
      ]
    },
    {
      "cell_type": "code",
      "execution_count": null,
      "id": "03287e0e",
      "metadata": {
        "id": "03287e0e"
      },
      "outputs": [],
      "source": [
        "df_an.shape"
      ]
    },
    {
      "cell_type": "code",
      "execution_count": null,
      "id": "f7423ca8",
      "metadata": {
        "id": "f7423ca8"
      },
      "outputs": [],
      "source": [
        "df_an = RSI(df_an)"
      ]
    },
    {
      "cell_type": "code",
      "execution_count": null,
      "id": "9be51f8d",
      "metadata": {
        "id": "9be51f8d"
      },
      "outputs": [],
      "source": [
        "df_an.tail()"
      ]
    },
    {
      "cell_type": "code",
      "execution_count": null,
      "id": "f3048458",
      "metadata": {
        "id": "f3048458"
      },
      "outputs": [],
      "source": [
        "df_an = apply_patterns(df_an)"
      ]
    },
    {
      "cell_type": "code",
      "execution_count": null,
      "id": "11aabd5d",
      "metadata": {
        "id": "11aabd5d"
      },
      "outputs": [],
      "source": [
        "df_an['EMA_200'] = df_an.mid_c.ewm(span=200, min_periods=200).mean()"
      ]
    },
    {
      "cell_type": "code",
      "execution_count": null,
      "id": "371ab9ed",
      "metadata": {
        "id": "371ab9ed"
      },
      "outputs": [],
      "source": [
        "df_an.columns"
      ]
    },
    {
      "cell_type": "code",
      "execution_count": null,
      "id": "f56614b9",
      "metadata": {
        "id": "f56614b9"
      },
      "outputs": [],
      "source": [
        "our_cols = ['time', 'mid_o', 'mid_h', 'mid_l', 'mid_c',\n",
        "                'ask_c','bid_c', 'ENGULFING', 'direction', 'EMA_200', 'RSI_14' ]"
      ]
    },
    {
      "cell_type": "code",
      "execution_count": null,
      "id": "14497190",
      "metadata": {
        "id": "14497190"
      },
      "outputs": [],
      "source": [
        "df_slim = df_an[our_cols].copy()\n",
        "df_slim.dropna(inplace=True)\n",
        "df_slim.reset_index(drop=True, inplace=True)"
      ]
    },
    {
      "cell_type": "code",
      "execution_count": null,
      "id": "9b408edb",
      "metadata": {
        "id": "9b408edb"
      },
      "outputs": [],
      "source": [
        "df_slim.head()"
      ]
    },
    {
      "cell_type": "code",
      "execution_count": null,
      "id": "9563015e",
      "metadata": {
        "id": "9563015e"
      },
      "outputs": [],
      "source": [
        "BUY = 1\n",
        "SELL = -1\n",
        "NONE = 0\n",
        "RSI_LIMIT = 50.0\n",
        "\n",
        "def apply_signal(row):\n",
        "    if row.ENGULFING == True:\n",
        "        if row.direction == BUY and row.mid_l > row.EMA_200:\n",
        "            if row.RSI_14 > RSI_LIMIT:\n",
        "                return BUY\n",
        "        if row.direction == SELL and row.mid_h < row.EMA_200:\n",
        "            if row.RSI_14 < RSI_LIMIT:\n",
        "                return SELL\n",
        "    return NONE"
      ]
    },
    {
      "cell_type": "code",
      "execution_count": null,
      "id": "c881d7ee",
      "metadata": {
        "id": "c881d7ee"
      },
      "outputs": [],
      "source": [
        "df_slim[\"SIGNAL\"] = df_slim.apply(apply_signal, axis=1)"
      ]
    },
    {
      "cell_type": "code",
      "execution_count": null,
      "id": "a4e9aa9c",
      "metadata": {
        "id": "a4e9aa9c"
      },
      "outputs": [],
      "source": [
        "df_slim[\"SIGNAL\"].value_counts()"
      ]
    },
    {
      "cell_type": "code",
      "execution_count": null,
      "id": "412972e3",
      "metadata": {
        "id": "412972e3"
      },
      "outputs": [],
      "source": [
        "LOSS_FACTOR = -1.0\n",
        "PROFIT_FACTOR = 1.5\n",
        "\n",
        "def apply_take_profit(row):\n",
        "    if row.SIGNAL != NONE:\n",
        "        return (row.mid_c - row.mid_o) * 1.5 + row.mid_c\n",
        "    else:\n",
        "        return 0.0\n",
        "\n",
        "def apply_stop_loss(row):\n",
        "    if row.SIGNAL != NONE:\n",
        "        return row.mid_o\n",
        "    else:\n",
        "        return 0.0"
      ]
    },
    {
      "cell_type": "code",
      "execution_count": null,
      "id": "b905fc6e",
      "metadata": {
        "id": "b905fc6e"
      },
      "outputs": [],
      "source": [
        "df_slim[\"TP\"] = df_slim.apply(apply_take_profit, axis=1)\n",
        "df_slim[\"SL\"] = df_slim.apply(apply_stop_loss, axis=1)"
      ]
    },
    {
      "cell_type": "code",
      "execution_count": null,
      "id": "b4dab0ea",
      "metadata": {
        "id": "b4dab0ea"
      },
      "outputs": [],
      "source": [
        "df_slim[df_slim.SIGNAL==BUY].head()"
      ]
    },
    {
      "cell_type": "code",
      "execution_count": null,
      "id": "86b2d8f1",
      "metadata": {
        "id": "86b2d8f1"
      },
      "outputs": [],
      "source": [
        "df_plot = df_slim.iloc[70:100]\n",
        "cp = CandlePlot(df_plot, candles=True)\n",
        "\n",
        "trades = cp.df_plot[cp.df_plot.SIGNAL != NONE]\n",
        "\n",
        "markers = ['mid_c', 'TP', 'SL']\n",
        "marker_colors = ['#0000FF', '#00FF00', '#FF0000']\n",
        "\n",
        "for i in range(3):\n",
        "    cp.fig.add_trace(go.Scatter(\n",
        "        x = trades.sTime,\n",
        "        y = trades[markers[i]],\n",
        "        mode = 'markers',\n",
        "        marker=dict(color=marker_colors[i], size=12)\n",
        "    ))\n",
        "\n",
        "cp.show_plot(line_traces=[\"EMA_200\"], sec_traces=['RSI_14'], height=250)"
      ]
    },
    {
      "cell_type": "code",
      "execution_count": null,
      "id": "f0d3bd91",
      "metadata": {
        "id": "f0d3bd91"
      },
      "outputs": [],
      "source": [
        "class Trade:\n",
        "    def __init__(self, row):\n",
        "        self.running = True\n",
        "        self.start_index = row.name\n",
        "        self.start_price = row.mid_c\n",
        "        self.trigger_price = row.mid_c\n",
        "        self.SIGNAL = row.SIGNAL\n",
        "        self.TP = row.TP\n",
        "        self.SL = row.SL\n",
        "        self.result = 0.0\n",
        "        self.end_time = row.time\n",
        "        self.start_time = row.time\n",
        "        self.duration = 0\n",
        "\n",
        "    def close_trade(self, row, result, trigger_price):\n",
        "        self.running = False\n",
        "        self.result = result\n",
        "        self.end_time = row.time\n",
        "        self.trigger_price = trigger_price\n",
        "\n",
        "    def update(self, row):\n",
        "        self.duration += 1\n",
        "        if self.SIGNAL == BUY:\n",
        "            if row.mid_h >= self.TP:\n",
        "                self.close_trade(row, PROFIT_FACTOR, row.mid_h)\n",
        "            elif row.mid_l <= self.SL:\n",
        "                self.close_trade(row, LOSS_FACTOR, row.mid_l)\n",
        "        if self.SIGNAL == SELL:\n",
        "            if row.mid_l <= self.TP:\n",
        "                self.close_trade(row, PROFIT_FACTOR, row.mid_l)\n",
        "            elif row.mid_h >= self.SL:\n",
        "                self.close_trade(row, LOSS_FACTOR, row.mid_h)"
      ]
    },
    {
      "cell_type": "code",
      "execution_count": null,
      "id": "6124fddf",
      "metadata": {
        "id": "6124fddf"
      },
      "outputs": [],
      "source": [
        "open_trades = []\n",
        "closed_trades = []\n",
        "\n",
        "for index, row in df_slim.iterrows():\n",
        "    for ot in open_trades:\n",
        "        ot.update(row)\n",
        "        if ot.running == False:\n",
        "            closed_trades.append(ot)\n",
        "    open_trades = [x for x in open_trades if x.running == True]\n",
        "\n",
        "    if row.SIGNAL != NONE:\n",
        "        open_trades.append(Trade(row))"
      ]
    },
    {
      "cell_type": "code",
      "execution_count": null,
      "id": "849ffd47",
      "metadata": {
        "id": "849ffd47"
      },
      "outputs": [],
      "source": [
        "df_results = pd.DataFrame.from_dict([vars(x) for x in closed_trades])"
      ]
    },
    {
      "cell_type": "code",
      "execution_count": null,
      "id": "47899a23",
      "metadata": {
        "id": "47899a23"
      },
      "outputs": [],
      "source": [
        "df_results.result.sum()"
      ]
    },
    {
      "cell_type": "code",
      "execution_count": null,
      "id": "d0fe36f1",
      "metadata": {
        "id": "d0fe36f1"
      },
      "outputs": [],
      "source": [
        "df_results.sort_values(by=\"start_index\", inplace=True)"
      ]
    },
    {
      "cell_type": "code",
      "execution_count": null,
      "id": "ebfc37bc",
      "metadata": {
        "id": "ebfc37bc"
      },
      "outputs": [],
      "source": [
        "df_m5 = pd.read_pickle(\"../data/EUR_USD_M5.pkl\")"
      ]
    },
    {
      "cell_type": "code",
      "execution_count": null,
      "id": "65ebb072",
      "metadata": {
        "id": "65ebb072"
      },
      "outputs": [],
      "source": [
        "df_m5.shape"
      ]
    },
    {
      "cell_type": "code",
      "execution_count": null,
      "id": "55fecab7",
      "metadata": {
        "id": "55fecab7"
      },
      "outputs": [],
      "source": [
        "df_m5.time.max()"
      ]
    },
    {
      "cell_type": "code",
      "execution_count": null,
      "id": "dc5c18b9",
      "metadata": {
        "id": "dc5c18b9"
      },
      "outputs": [],
      "source": [
        "df_raw.time.max()"
      ]
    },
    {
      "cell_type": "code",
      "execution_count": null,
      "id": "6b3683be",
      "metadata": {
        "id": "6b3683be"
      },
      "outputs": [],
      "source": [
        "from dateutil import parser"
      ]
    },
    {
      "cell_type": "code",
      "execution_count": null,
      "id": "da3c7349",
      "metadata": {
        "id": "da3c7349"
      },
      "outputs": [],
      "source": [
        "time_min = parser.parse(\"2021-12-15T10:00:00Z\")\n",
        "time_max = parser.parse(\"2021-12-15T11:00:00Z\")\n",
        "df_m5_s = df_m5[(df_m5.time>=time_min)&(df_m5.time<=time_max)]\n",
        "df_raw_s = df_raw[(df_raw.time>=time_min)&(df_raw.time<=time_max)]"
      ]
    },
    {
      "cell_type": "code",
      "execution_count": null,
      "id": "ead5aa45",
      "metadata": {
        "id": "ead5aa45"
      },
      "outputs": [],
      "source": [
        "df_m5_s"
      ]
    },
    {
      "cell_type": "code",
      "execution_count": null,
      "id": "e05abd42",
      "metadata": {
        "id": "e05abd42"
      },
      "outputs": [],
      "source": [
        "df_raw_s"
      ]
    },
    {
      "cell_type": "code",
      "execution_count": null,
      "id": "dff4c235",
      "metadata": {
        "id": "dff4c235"
      },
      "outputs": [],
      "source": []
    },
    {
      "cell_type": "code",
      "execution_count": null,
      "id": "c6b733e8",
      "metadata": {
        "id": "c6b733e8"
      },
      "outputs": [],
      "source": []
    },
    {
      "cell_type": "code",
      "execution_count": null,
      "id": "d470b9f2",
      "metadata": {
        "id": "d470b9f2"
      },
      "outputs": [],
      "source": []
    },
    {
      "cell_type": "code",
      "execution_count": null,
      "id": "ed5e1639",
      "metadata": {
        "id": "ed5e1639"
      },
      "outputs": [],
      "source": []
    }
  ],
  "metadata": {
    "kernelspec": {
      "display_name": "Python 3 (ipykernel)",
      "language": "python",
      "name": "python3"
    },
    "language_info": {
      "codemirror_mode": {
        "name": "ipython",
        "version": 3
      },
      "file_extension": ".py",
      "mimetype": "text/x-python",
      "name": "python",
      "nbconvert_exporter": "python",
      "pygments_lexer": "ipython3",
      "version": "3.10.1"
    },
    "colab": {
      "provenance": [],
      "include_colab_link": true
    }
  },
  "nbformat": 4,
  "nbformat_minor": 5
}